{
 "cells": [
  {
   "cell_type": "code",
   "execution_count": 123,
   "metadata": {
    "collapsed": false
   },
   "outputs": [
    {
     "name": "stdout",
     "output_type": "stream",
     "text": [
      "aggregation for 2015-04-01 per cell written to D:\\source\\python\\TnDataGen\\20150401\\kpidata_2015-04-01.csv\n",
      "aggregation for network hourly written to D:\\source\\python\\TnDataGen\\20150401\\kpidata_hourly_nw.csv\n",
      "aggregation for network daily written to D:\\source\\python\\TnDataGen\\20150401\\kpidata_daily_nw.csv\n"
     ]
    }
   ],
   "source": [
    "import pandas as pd\n",
    "import glob\n",
    "import os\n",
    "import datetime\n",
    "import re\n",
    "\n",
    "pd.set_option('max_rows', 10)\n",
    "\n",
    "DATA_FOLDER = '/root/data'\n",
    "DATA_FOLDER_WIN = r'D:\\source\\python\\TnDataGen\\20150401'\n",
    "\n",
    "# convert hourly timestamp to ISO date string YYYY-mm-dd\n",
    "def to_date(timestamp):\n",
    "    return datetime.date.fromtimestamp(timestamp * 3600).isoformat()\n",
    "\n",
    "files = glob.glob(os.path.join(DATA_FOLDER_WIN, 'kpidata_*.csv'))\n",
    "file_name_re = r'\\d{4}-\\d{2}-\\d{2}_\\d{2}'\n",
    "cell_dfs = []\n",
    "nw_dfs = []\n",
    "\n",
    "for file in [f for f in files if re.search(file_name_re, f)]:\n",
    "    df = pd.read_csv(file, index_col=None, parse_dates=False, error_bad_lines=False, sep='\\t')\n",
    "#     df['timestamp'] = df['time_interval'].map(lambda x: pd.Timestamp(datetime.datetime.fromtimestamp(x * 3600)))\n",
    "    df.drop(['utc_time_offset', 'daily_archived'], axis=1, inplace=True)\n",
    "    cell_dfs.append(df)\n",
    "    nw_dfs.append(df.groupby('time_interval')[df.columns[3:]].sum())\n",
    "\n",
    "cell_hourly = pd.concat(cell_dfs)\n",
    "# grouped = big.groupby([big['timestamp'].dt.date, 'g_cell_id'])\n",
    "grouped = cell_hourly.groupby([cell_hourly['time_interval'].map(lambda x: to_date(x)), 'g_cell_id'])\n",
    "res = grouped[cell_hourly.columns[3:]].sum()\n",
    "for key, group in res.groupby(level=0):\n",
    "    out_path = os.path.join(DATA_FOLDER_WIN, 'kpidata_%s.csv' % key)\n",
    "    group.to_csv(out_path, sep='\\t')\n",
    "    print('aggregation for %s per cell written to %s' % (key, out_path))\n",
    "    \n",
    "nw_houly = pd.concat(nw_dfs)\n",
    "out_path = os.path.join(DATA_FOLDER_WIN, 'kpidata_hourly_nw.csv')\n",
    "nw_houly.to_csv(out_path, sep='\\t')\n",
    "print('aggregation for network hourly written to %s' % out_path)\n",
    "\n",
    "nw_grouped = nw_houly.groupby(lambda x: to_date(x))\n",
    "res = nw_grouped[nw_houly.columns[3:]].sum()\n",
    "out_path = os.path.join(DATA_FOLDER_WIN, 'kpidata_daily_nw.csv')\n",
    "res.to_csv(out_path, sep='\\t')\n",
    "print('aggregation for network daily written to %s' % out_path)"
   ]
  },
  {
   "cell_type": "code",
   "execution_count": 110,
   "metadata": {
    "collapsed": false
   },
   "outputs": [
    {
     "data": {
      "text/html": [
       "<div>\n",
       "<table border=\"1\" class=\"dataframe\">\n",
       "  <thead>\n",
       "    <tr style=\"text-align: right;\">\n",
       "      <th></th>\n",
       "      <th>RRC_Setup_Attempts</th>\n",
       "      <th>RRC_Connection_Reject</th>\n",
       "      <th>RRC_Missing_CSU_Complete</th>\n",
       "      <th>NBAP_RL_Setup_Attempts</th>\n",
       "      <th>NBAP_RL_Setup_Failures</th>\n",
       "      <th>NBAP_RL_Addition_Attempts</th>\n",
       "      <th>NBAP_RL_Addition_Failures</th>\n",
       "      <th>CS_RAB_Setup_Attempts</th>\n",
       "      <th>CS_RAB_Setup_Failures</th>\n",
       "      <th>PS_RAB_Setup_Attempts</th>\n",
       "      <th>PS_RAB_Setup_Failures</th>\n",
       "      <th>Releases</th>\n",
       "      <th>Abnormal_Releases</th>\n",
       "      <th>3G_2G_HO_Attempts</th>\n",
       "    </tr>\n",
       "  </thead>\n",
       "  <tbody>\n",
       "  </tbody>\n",
       "</table>\n",
       "</div>"
      ],
      "text/plain": [
       "Empty DataFrame\n",
       "Columns: [RRC_Setup_Attempts, RRC_Connection_Reject, RRC_Missing_CSU_Complete, NBAP_RL_Setup_Attempts, NBAP_RL_Setup_Failures, NBAP_RL_Addition_Attempts, NBAP_RL_Addition_Failures, CS_RAB_Setup_Attempts, CS_RAB_Setup_Failures, PS_RAB_Setup_Attempts, PS_RAB_Setup_Failures, Releases, Abnormal_Releases, 3G_2G_HO_Attempts]\n",
       "Index: []"
      ]
     },
     "execution_count": 110,
     "metadata": {},
     "output_type": "execute_result"
    }
   ],
   "source": [
    "res"
   ]
  },
  {
   "cell_type": "code",
   "execution_count": 102,
   "metadata": {
    "collapsed": false
   },
   "outputs": [
    {
     "name": "stdout",
     "output_type": "stream",
     "text": [
      "2015-4-1\n",
      "                          RRC_Setup_Attempts  RRC_Connection_Reject  \\\n",
      "year month day g_cell_id                                              \n",
      "2015 4     1   13117200                23681                    188   \n",
      "               13117201                25117                    292   \n",
      "               13117202                25095                    242   \n",
      "               13117203                24364                    251   \n",
      "               13117204                24271                    298   \n",
      "...                                      ...                    ...   \n",
      "               39351695                23909                    266   \n",
      "               39351696                24181                    268   \n",
      "               39351697                24053                    262   \n",
      "               39351698                24477                    247   \n",
      "               39351699                23909                    257   \n",
      "\n",
      "                          RRC_Missing_CSU_Complete  NBAP_RL_Setup_Attempts  \\\n",
      "year month day g_cell_id                                                     \n",
      "2015 4     1   13117200                        255                   24161   \n",
      "               13117201                        218                   22670   \n",
      "               13117202                        251                   23876   \n",
      "               13117203                        220                   24051   \n",
      "               13117204                        255                   23670   \n",
      "...                                            ...                     ...   \n",
      "               39351695                        212                   24051   \n",
      "               39351696                        228                   24493   \n",
      "               39351697                        267                   24324   \n",
      "               39351698                        217                   24711   \n",
      "               39351699                        238                   23499   \n",
      "\n",
      "                          NBAP_RL_Setup_Failures  NBAP_RL_Addition_Attempts  \\\n",
      "year month day g_cell_id                                                      \n",
      "2015 4     1   13117200                      250                      24419   \n",
      "               13117201                      199                      25326   \n",
      "               13117202                      277                      23147   \n",
      "               13117203                      288                      24105   \n",
      "               13117204                      196                      23496   \n",
      "...                                          ...                        ...   \n",
      "               39351695                      256                      24004   \n",
      "               39351696                      250                      24355   \n",
      "               39351697                      232                      23761   \n",
      "               39351698                      299                      23357   \n",
      "               39351699                      225                      23487   \n",
      "\n",
      "                          NBAP_RL_Addition_Failures  CS_RAB_Setup_Attempts  \\\n",
      "year month day g_cell_id                                                     \n",
      "2015 4     1   13117200                         257                  24309   \n",
      "               13117201                         221                  23716   \n",
      "               13117202                         273                  24265   \n",
      "               13117203                         290                  25167   \n",
      "               13117204                         266                  23564   \n",
      "...                                             ...                    ...   \n",
      "               39351695                         249                  24783   \n",
      "               39351696                         286                  24404   \n",
      "               39351697                         178                  23881   \n",
      "               39351698                         299                  25063   \n",
      "               39351699                         192                  24307   \n",
      "\n",
      "                          CS_RAB_Setup_Failures  PS_RAB_Setup_Attempts  \\\n",
      "year month day g_cell_id                                                 \n",
      "2015 4     1   13117200                     221                  24225   \n",
      "               13117201                     235                  23532   \n",
      "               13117202                     226                  23623   \n",
      "               13117203                     256                  24017   \n",
      "               13117204                     239                  23579   \n",
      "...                                         ...                    ...   \n",
      "               39351695                     228                  24827   \n",
      "               39351696                     241                  24739   \n",
      "               39351697                     225                  22896   \n",
      "               39351698                     235                  23208   \n",
      "               39351699                     291                  24014   \n",
      "\n",
      "                          PS_RAB_Setup_Failures  Releases  Abnormal_Releases  \\\n",
      "year month day g_cell_id                                                       \n",
      "2015 4     1   13117200                     209     23882                184   \n",
      "               13117201                     228     24432                216   \n",
      "               13117202                     194     24554                245   \n",
      "               13117203                     234     23863                268   \n",
      "               13117204                     181     23548                229   \n",
      "...                                         ...       ...                ...   \n",
      "               39351695                     201     23091                251   \n",
      "               39351696                     219     23119                245   \n",
      "               39351697                     196     23599                241   \n",
      "               39351698                     242     23915                269   \n",
      "               39351699                     257     23721                250   \n",
      "\n",
      "                          3G_2G_HO_Attempts  3G_2G_HO_Failures  \\\n",
      "year month day g_cell_id                                         \n",
      "2015 4     1   13117200                4836                 39   \n",
      "               13117201                4790                 49   \n",
      "               13117202                4803                 43   \n",
      "               13117203                4875                 35   \n",
      "               13117204                4800                 63   \n",
      "...                                     ...                ...   \n",
      "               39351695                4663                 49   \n",
      "               39351696                4748                 38   \n",
      "               39351697                4772                 54   \n",
      "               39351698                4647                 42   \n",
      "               39351699                4815                 47   \n",
      "\n",
      "                          3G_4G_HO_Attempts  3G_4G_HO_Failures  CU_RL_Failures  \n",
      "year month day g_cell_id                                                        \n",
      "2015 4     1   13117200                4733                 51            1271  \n",
      "               13117201                4853                 52            1200  \n",
      "               13117202                4915                 54            1155  \n",
      "               13117203                4799                 47             939  \n",
      "               13117204                4822                 49             896  \n",
      "...                                     ...                ...             ...  \n",
      "               39351695                4821                 45            1361  \n",
      "               39351696                4824                 42            1577  \n",
      "               39351697                4769                 47            1222  \n",
      "               39351698                4686                 47            1147  \n",
      "               39351699                4874                 43            1257  \n",
      "\n",
      "[300 rows x 18 columns]\n"
     ]
    }
   ],
   "source": [
    "for key, group in res.groupby(level=[0, 1, 2], as_index=False):\n",
    "    print('-'.join(map(str, key)))\n",
    "    print(group)"
   ]
  },
  {
   "cell_type": "code",
   "execution_count": 66,
   "metadata": {
    "collapsed": false
   },
   "outputs": [],
   "source": [
    "%pfile pd.DataFrame"
   ]
  }
 ],
 "metadata": {
  "kernelspec": {
   "display_name": "Python 3",
   "language": "python",
   "name": "python3"
  },
  "language_info": {
   "codemirror_mode": {
    "name": "ipython",
    "version": 3
   },
   "file_extension": ".py",
   "mimetype": "text/x-python",
   "name": "python",
   "nbconvert_exporter": "python",
   "pygments_lexer": "ipython3",
   "version": "3.5.1"
  }
 },
 "nbformat": 4,
 "nbformat_minor": 0
}
