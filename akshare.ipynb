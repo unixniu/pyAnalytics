{
 "cells": [
  {
   "cell_type": "code",
   "execution_count": 1,
   "metadata": {},
   "outputs": [
    {
     "output_type": "stream",
     "name": "stderr",
     "text": [
      "C:\\Users\\KK\\Anaconda3\\lib\\site-packages\\pandas\\compat\\_optional.py:138: UserWarning: Pandas requires version '2.7.0' or newer of 'numexpr' (version '2.6.9' currently installed).\n  warnings.warn(msg, UserWarning)\n"
     ]
    }
   ],
   "source": [
    "import akshare as ak\n",
    "import datetime\n",
    "import pandas as pd\n",
    "import numpy as np"
   ]
  },
  {
   "cell_type": "code",
   "execution_count": 2,
   "metadata": {},
   "outputs": [
    {
     "output_type": "execute_result",
     "data": {
      "text/plain": [
       "           日期     开盘     收盘     最高     最低      成交量           成交额    振幅   涨跌幅  \\\n",
       "0  2021-01-04  18.92  18.42  18.92  18.26  1554216  2.891682e+09  3.44 -3.86   \n",
       "1  2021-01-05  18.22  17.99  18.30  17.62  1821352  3.284607e+09  3.69 -2.33   \n",
       "2  2021-01-06  17.90  19.38  19.38  17.82  1934945  3.648522e+09  8.67  7.73   \n",
       "3  2021-01-07  19.34  19.72  19.80  19.05  1584185  3.111275e+09  3.87  1.75   \n",
       "4  2021-01-08  19.72  19.67  19.92  19.13  1195473  2.348316e+09  4.01 -0.25   \n",
       "5  2021-01-11  19.82  20.20  20.46  19.82  1790457  3.652547e+09  3.25  2.69   \n",
       "6  2021-01-12  20.21  20.82  20.82  20.00  1288166  2.657687e+09  4.06  3.07   \n",
       "7  2021-01-13  20.82  20.52  20.83  20.22  1049120  2.161850e+09  2.93 -1.44   \n",
       "8  2021-01-14  20.50  19.99  20.71  19.77  1130156  2.306405e+09  4.58 -2.58   \n",
       "9  2021-01-15  20.82  20.82  21.77  20.64  2480689  5.311218e+09  5.65  4.15   \n",
       "\n",
       "    涨跌额   换手率  \n",
       "0 -0.74  0.80  \n",
       "1 -0.43  0.94  \n",
       "2  1.39  1.00  \n",
       "3  0.34  0.82  \n",
       "4 -0.05  0.62  \n",
       "5  0.53  0.92  \n",
       "6  0.62  0.66  \n",
       "7 -0.30  0.54  \n",
       "8 -0.53  0.58  \n",
       "9  0.83  1.28  "
      ],
      "text/html": "<div>\n<style scoped>\n    .dataframe tbody tr th:only-of-type {\n        vertical-align: middle;\n    }\n\n    .dataframe tbody tr th {\n        vertical-align: top;\n    }\n\n    .dataframe thead th {\n        text-align: right;\n    }\n</style>\n<table border=\"1\" class=\"dataframe\">\n  <thead>\n    <tr style=\"text-align: right;\">\n      <th></th>\n      <th>日期</th>\n      <th>开盘</th>\n      <th>收盘</th>\n      <th>最高</th>\n      <th>最低</th>\n      <th>成交量</th>\n      <th>成交额</th>\n      <th>振幅</th>\n      <th>涨跌幅</th>\n      <th>涨跌额</th>\n      <th>换手率</th>\n    </tr>\n  </thead>\n  <tbody>\n    <tr>\n      <th>0</th>\n      <td>2021-01-04</td>\n      <td>18.92</td>\n      <td>18.42</td>\n      <td>18.92</td>\n      <td>18.26</td>\n      <td>1554216</td>\n      <td>2.891682e+09</td>\n      <td>3.44</td>\n      <td>-3.86</td>\n      <td>-0.74</td>\n      <td>0.80</td>\n    </tr>\n    <tr>\n      <th>1</th>\n      <td>2021-01-05</td>\n      <td>18.22</td>\n      <td>17.99</td>\n      <td>18.30</td>\n      <td>17.62</td>\n      <td>1821352</td>\n      <td>3.284607e+09</td>\n      <td>3.69</td>\n      <td>-2.33</td>\n      <td>-0.43</td>\n      <td>0.94</td>\n    </tr>\n    <tr>\n      <th>2</th>\n      <td>2021-01-06</td>\n      <td>17.90</td>\n      <td>19.38</td>\n      <td>19.38</td>\n      <td>17.82</td>\n      <td>1934945</td>\n      <td>3.648522e+09</td>\n      <td>8.67</td>\n      <td>7.73</td>\n      <td>1.39</td>\n      <td>1.00</td>\n    </tr>\n    <tr>\n      <th>3</th>\n      <td>2021-01-07</td>\n      <td>19.34</td>\n      <td>19.72</td>\n      <td>19.80</td>\n      <td>19.05</td>\n      <td>1584185</td>\n      <td>3.111275e+09</td>\n      <td>3.87</td>\n      <td>1.75</td>\n      <td>0.34</td>\n      <td>0.82</td>\n    </tr>\n    <tr>\n      <th>4</th>\n      <td>2021-01-08</td>\n      <td>19.72</td>\n      <td>19.67</td>\n      <td>19.92</td>\n      <td>19.13</td>\n      <td>1195473</td>\n      <td>2.348316e+09</td>\n      <td>4.01</td>\n      <td>-0.25</td>\n      <td>-0.05</td>\n      <td>0.62</td>\n    </tr>\n    <tr>\n      <th>5</th>\n      <td>2021-01-11</td>\n      <td>19.82</td>\n      <td>20.20</td>\n      <td>20.46</td>\n      <td>19.82</td>\n      <td>1790457</td>\n      <td>3.652547e+09</td>\n      <td>3.25</td>\n      <td>2.69</td>\n      <td>0.53</td>\n      <td>0.92</td>\n    </tr>\n    <tr>\n      <th>6</th>\n      <td>2021-01-12</td>\n      <td>20.21</td>\n      <td>20.82</td>\n      <td>20.82</td>\n      <td>20.00</td>\n      <td>1288166</td>\n      <td>2.657687e+09</td>\n      <td>4.06</td>\n      <td>3.07</td>\n      <td>0.62</td>\n      <td>0.66</td>\n    </tr>\n    <tr>\n      <th>7</th>\n      <td>2021-01-13</td>\n      <td>20.82</td>\n      <td>20.52</td>\n      <td>20.83</td>\n      <td>20.22</td>\n      <td>1049120</td>\n      <td>2.161850e+09</td>\n      <td>2.93</td>\n      <td>-1.44</td>\n      <td>-0.30</td>\n      <td>0.54</td>\n    </tr>\n    <tr>\n      <th>8</th>\n      <td>2021-01-14</td>\n      <td>20.50</td>\n      <td>19.99</td>\n      <td>20.71</td>\n      <td>19.77</td>\n      <td>1130156</td>\n      <td>2.306405e+09</td>\n      <td>4.58</td>\n      <td>-2.58</td>\n      <td>-0.53</td>\n      <td>0.58</td>\n    </tr>\n    <tr>\n      <th>9</th>\n      <td>2021-01-15</td>\n      <td>20.82</td>\n      <td>20.82</td>\n      <td>21.77</td>\n      <td>20.64</td>\n      <td>2480689</td>\n      <td>5.311218e+09</td>\n      <td>5.65</td>\n      <td>4.15</td>\n      <td>0.83</td>\n      <td>1.28</td>\n    </tr>\n  </tbody>\n</table>\n</div>"
     },
     "metadata": {},
     "execution_count": 2
    }
   ],
   "source": [
    "df = ak.stock_zh_a_hist(symbol='000001', start_date=datetime.datetime(2021, 1, 1), end_date=datetime.datetime.today(), adjust='qfq')\n",
    "df.head(10)"
   ]
  },
  {
   "cell_type": "code",
   "execution_count": 3,
   "metadata": {
    "scrolled": true
   },
   "outputs": [
    {
     "output_type": "execute_result",
     "data": {
      "text/plain": [
       "                    日期     开盘     收盘     最高     最低      成交量           成交额  \\\n",
       "date                                                                        \n",
       "2021-01-04  2021-01-04  18.92  18.42  18.92  18.26  1554216  2.891682e+09   \n",
       "2021-01-05  2021-01-05  18.22  17.99  18.30  17.62  1821352  3.284607e+09   \n",
       "2021-01-06  2021-01-06  17.90  19.38  19.38  17.82  1934945  3.648522e+09   \n",
       "2021-01-07  2021-01-07  19.34  19.72  19.80  19.05  1584185  3.111275e+09   \n",
       "2021-01-08  2021-01-08  19.72  19.67  19.92  19.13  1195473  2.348316e+09   \n",
       "2021-01-11  2021-01-11  19.82  20.20  20.46  19.82  1790457  3.652547e+09   \n",
       "2021-01-12  2021-01-12  20.21  20.82  20.82  20.00  1288166  2.657687e+09   \n",
       "2021-01-13  2021-01-13  20.82  20.52  20.83  20.22  1049120  2.161850e+09   \n",
       "2021-01-14  2021-01-14  20.50  19.99  20.71  19.77  1130156  2.306405e+09   \n",
       "2021-01-15  2021-01-15  20.82  20.82  21.77  20.64  2480689  5.311218e+09   \n",
       "\n",
       "              振幅   涨跌幅   涨跌额   换手率  \n",
       "date                                \n",
       "2021-01-04  3.44 -3.86 -0.74  0.80  \n",
       "2021-01-05  3.69 -2.33 -0.43  0.94  \n",
       "2021-01-06  8.67  7.73  1.39  1.00  \n",
       "2021-01-07  3.87  1.75  0.34  0.82  \n",
       "2021-01-08  4.01 -0.25 -0.05  0.62  \n",
       "2021-01-11  3.25  2.69  0.53  0.92  \n",
       "2021-01-12  4.06  3.07  0.62  0.66  \n",
       "2021-01-13  2.93 -1.44 -0.30  0.54  \n",
       "2021-01-14  4.58 -2.58 -0.53  0.58  \n",
       "2021-01-15  5.65  4.15  0.83  1.28  "
      ],
      "text/html": "<div>\n<style scoped>\n    .dataframe tbody tr th:only-of-type {\n        vertical-align: middle;\n    }\n\n    .dataframe tbody tr th {\n        vertical-align: top;\n    }\n\n    .dataframe thead th {\n        text-align: right;\n    }\n</style>\n<table border=\"1\" class=\"dataframe\">\n  <thead>\n    <tr style=\"text-align: right;\">\n      <th></th>\n      <th>日期</th>\n      <th>开盘</th>\n      <th>收盘</th>\n      <th>最高</th>\n      <th>最低</th>\n      <th>成交量</th>\n      <th>成交额</th>\n      <th>振幅</th>\n      <th>涨跌幅</th>\n      <th>涨跌额</th>\n      <th>换手率</th>\n    </tr>\n    <tr>\n      <th>date</th>\n      <th></th>\n      <th></th>\n      <th></th>\n      <th></th>\n      <th></th>\n      <th></th>\n      <th></th>\n      <th></th>\n      <th></th>\n      <th></th>\n      <th></th>\n    </tr>\n  </thead>\n  <tbody>\n    <tr>\n      <th>2021-01-04</th>\n      <td>2021-01-04</td>\n      <td>18.92</td>\n      <td>18.42</td>\n      <td>18.92</td>\n      <td>18.26</td>\n      <td>1554216</td>\n      <td>2.891682e+09</td>\n      <td>3.44</td>\n      <td>-3.86</td>\n      <td>-0.74</td>\n      <td>0.80</td>\n    </tr>\n    <tr>\n      <th>2021-01-05</th>\n      <td>2021-01-05</td>\n      <td>18.22</td>\n      <td>17.99</td>\n      <td>18.30</td>\n      <td>17.62</td>\n      <td>1821352</td>\n      <td>3.284607e+09</td>\n      <td>3.69</td>\n      <td>-2.33</td>\n      <td>-0.43</td>\n      <td>0.94</td>\n    </tr>\n    <tr>\n      <th>2021-01-06</th>\n      <td>2021-01-06</td>\n      <td>17.90</td>\n      <td>19.38</td>\n      <td>19.38</td>\n      <td>17.82</td>\n      <td>1934945</td>\n      <td>3.648522e+09</td>\n      <td>8.67</td>\n      <td>7.73</td>\n      <td>1.39</td>\n      <td>1.00</td>\n    </tr>\n    <tr>\n      <th>2021-01-07</th>\n      <td>2021-01-07</td>\n      <td>19.34</td>\n      <td>19.72</td>\n      <td>19.80</td>\n      <td>19.05</td>\n      <td>1584185</td>\n      <td>3.111275e+09</td>\n      <td>3.87</td>\n      <td>1.75</td>\n      <td>0.34</td>\n      <td>0.82</td>\n    </tr>\n    <tr>\n      <th>2021-01-08</th>\n      <td>2021-01-08</td>\n      <td>19.72</td>\n      <td>19.67</td>\n      <td>19.92</td>\n      <td>19.13</td>\n      <td>1195473</td>\n      <td>2.348316e+09</td>\n      <td>4.01</td>\n      <td>-0.25</td>\n      <td>-0.05</td>\n      <td>0.62</td>\n    </tr>\n    <tr>\n      <th>2021-01-11</th>\n      <td>2021-01-11</td>\n      <td>19.82</td>\n      <td>20.20</td>\n      <td>20.46</td>\n      <td>19.82</td>\n      <td>1790457</td>\n      <td>3.652547e+09</td>\n      <td>3.25</td>\n      <td>2.69</td>\n      <td>0.53</td>\n      <td>0.92</td>\n    </tr>\n    <tr>\n      <th>2021-01-12</th>\n      <td>2021-01-12</td>\n      <td>20.21</td>\n      <td>20.82</td>\n      <td>20.82</td>\n      <td>20.00</td>\n      <td>1288166</td>\n      <td>2.657687e+09</td>\n      <td>4.06</td>\n      <td>3.07</td>\n      <td>0.62</td>\n      <td>0.66</td>\n    </tr>\n    <tr>\n      <th>2021-01-13</th>\n      <td>2021-01-13</td>\n      <td>20.82</td>\n      <td>20.52</td>\n      <td>20.83</td>\n      <td>20.22</td>\n      <td>1049120</td>\n      <td>2.161850e+09</td>\n      <td>2.93</td>\n      <td>-1.44</td>\n      <td>-0.30</td>\n      <td>0.54</td>\n    </tr>\n    <tr>\n      <th>2021-01-14</th>\n      <td>2021-01-14</td>\n      <td>20.50</td>\n      <td>19.99</td>\n      <td>20.71</td>\n      <td>19.77</td>\n      <td>1130156</td>\n      <td>2.306405e+09</td>\n      <td>4.58</td>\n      <td>-2.58</td>\n      <td>-0.53</td>\n      <td>0.58</td>\n    </tr>\n    <tr>\n      <th>2021-01-15</th>\n      <td>2021-01-15</td>\n      <td>20.82</td>\n      <td>20.82</td>\n      <td>21.77</td>\n      <td>20.64</td>\n      <td>2480689</td>\n      <td>5.311218e+09</td>\n      <td>5.65</td>\n      <td>4.15</td>\n      <td>0.83</td>\n      <td>1.28</td>\n    </tr>\n  </tbody>\n</table>\n</div>"
     },
     "metadata": {},
     "execution_count": 3
    }
   ],
   "source": [
    "df['date'] = pd.to_datetime(df['日期'], format='%Y-%m-%d')\n",
    "df.set_index('date', inplace=True)\n",
    "df.head(10)"
   ]
  },
  {
   "source": [
    "w_df = df.resample('W').agg({'开盘':'first', '收盘':'last', '最高':'max', '最低':'min','成交量':'sum'})\n",
    "w_df.head(20)"
   ],
   "cell_type": "code",
   "metadata": {},
   "execution_count": 4,
   "outputs": [
    {
     "output_type": "execute_result",
     "data": {
      "text/plain": [
       "               开盘     收盘     最高     最低      成交量\n",
       "date                                           \n",
       "2021-01-10  18.92  19.67  19.92  17.62  8090171\n",
       "2021-01-17  19.82  20.82  21.77  19.77  7738588\n",
       "2021-01-24  21.02  21.85  22.79  21.02  6549396\n",
       "2021-01-31  21.54  22.91  23.36  21.25  5546974\n",
       "2021-02-07  22.82  24.75  25.13  22.52  8085504\n",
       "2021-02-14  24.72  23.64  24.78  23.20  3945226\n",
       "2021-02-21  23.82  23.67  24.37  23.30  2427814\n",
       "2021-02-28  23.62  21.20  23.62  21.03  7974182\n",
       "2021-03-07  21.36  22.16  23.31  21.00  6612197\n",
       "2021-03-14  22.26  21.30  22.51  20.10  5250946\n",
       "2021-03-21  21.22  20.29  21.94  20.19  4937154\n",
       "2021-03-28  20.37  20.96  21.47  20.22  4298952\n",
       "2021-04-04  21.10  21.32  21.93  21.02  3426883\n",
       "2021-04-11  21.37  21.12  21.91  20.90  1700698\n",
       "2021-04-18  21.33  20.08  21.33  19.63  3097948\n",
       "2021-04-25  19.85  23.11  23.47  19.73  5197080\n",
       "2021-05-02  23.69  23.11  24.05  22.60  3113505\n",
       "2021-05-09  22.92  23.87  24.12  22.92  1302509\n",
       "2021-05-16  23.82  23.32  23.86  22.60  2805365\n",
       "2021-05-23  23.15  23.49  24.13  22.95  2297524"
      ],
      "text/html": "<div>\n<style scoped>\n    .dataframe tbody tr th:only-of-type {\n        vertical-align: middle;\n    }\n\n    .dataframe tbody tr th {\n        vertical-align: top;\n    }\n\n    .dataframe thead th {\n        text-align: right;\n    }\n</style>\n<table border=\"1\" class=\"dataframe\">\n  <thead>\n    <tr style=\"text-align: right;\">\n      <th></th>\n      <th>开盘</th>\n      <th>收盘</th>\n      <th>最高</th>\n      <th>最低</th>\n      <th>成交量</th>\n    </tr>\n    <tr>\n      <th>date</th>\n      <th></th>\n      <th></th>\n      <th></th>\n      <th></th>\n      <th></th>\n    </tr>\n  </thead>\n  <tbody>\n    <tr>\n      <th>2021-01-10</th>\n      <td>18.92</td>\n      <td>19.67</td>\n      <td>19.92</td>\n      <td>17.62</td>\n      <td>8090171</td>\n    </tr>\n    <tr>\n      <th>2021-01-17</th>\n      <td>19.82</td>\n      <td>20.82</td>\n      <td>21.77</td>\n      <td>19.77</td>\n      <td>7738588</td>\n    </tr>\n    <tr>\n      <th>2021-01-24</th>\n      <td>21.02</td>\n      <td>21.85</td>\n      <td>22.79</td>\n      <td>21.02</td>\n      <td>6549396</td>\n    </tr>\n    <tr>\n      <th>2021-01-31</th>\n      <td>21.54</td>\n      <td>22.91</td>\n      <td>23.36</td>\n      <td>21.25</td>\n      <td>5546974</td>\n    </tr>\n    <tr>\n      <th>2021-02-07</th>\n      <td>22.82</td>\n      <td>24.75</td>\n      <td>25.13</td>\n      <td>22.52</td>\n      <td>8085504</td>\n    </tr>\n    <tr>\n      <th>2021-02-14</th>\n      <td>24.72</td>\n      <td>23.64</td>\n      <td>24.78</td>\n      <td>23.20</td>\n      <td>3945226</td>\n    </tr>\n    <tr>\n      <th>2021-02-21</th>\n      <td>23.82</td>\n      <td>23.67</td>\n      <td>24.37</td>\n      <td>23.30</td>\n      <td>2427814</td>\n    </tr>\n    <tr>\n      <th>2021-02-28</th>\n      <td>23.62</td>\n      <td>21.20</td>\n      <td>23.62</td>\n      <td>21.03</td>\n      <td>7974182</td>\n    </tr>\n    <tr>\n      <th>2021-03-07</th>\n      <td>21.36</td>\n      <td>22.16</td>\n      <td>23.31</td>\n      <td>21.00</td>\n      <td>6612197</td>\n    </tr>\n    <tr>\n      <th>2021-03-14</th>\n      <td>22.26</td>\n      <td>21.30</td>\n      <td>22.51</td>\n      <td>20.10</td>\n      <td>5250946</td>\n    </tr>\n    <tr>\n      <th>2021-03-21</th>\n      <td>21.22</td>\n      <td>20.29</td>\n      <td>21.94</td>\n      <td>20.19</td>\n      <td>4937154</td>\n    </tr>\n    <tr>\n      <th>2021-03-28</th>\n      <td>20.37</td>\n      <td>20.96</td>\n      <td>21.47</td>\n      <td>20.22</td>\n      <td>4298952</td>\n    </tr>\n    <tr>\n      <th>2021-04-04</th>\n      <td>21.10</td>\n      <td>21.32</td>\n      <td>21.93</td>\n      <td>21.02</td>\n      <td>3426883</td>\n    </tr>\n    <tr>\n      <th>2021-04-11</th>\n      <td>21.37</td>\n      <td>21.12</td>\n      <td>21.91</td>\n      <td>20.90</td>\n      <td>1700698</td>\n    </tr>\n    <tr>\n      <th>2021-04-18</th>\n      <td>21.33</td>\n      <td>20.08</td>\n      <td>21.33</td>\n      <td>19.63</td>\n      <td>3097948</td>\n    </tr>\n    <tr>\n      <th>2021-04-25</th>\n      <td>19.85</td>\n      <td>23.11</td>\n      <td>23.47</td>\n      <td>19.73</td>\n      <td>5197080</td>\n    </tr>\n    <tr>\n      <th>2021-05-02</th>\n      <td>23.69</td>\n      <td>23.11</td>\n      <td>24.05</td>\n      <td>22.60</td>\n      <td>3113505</td>\n    </tr>\n    <tr>\n      <th>2021-05-09</th>\n      <td>22.92</td>\n      <td>23.87</td>\n      <td>24.12</td>\n      <td>22.92</td>\n      <td>1302509</td>\n    </tr>\n    <tr>\n      <th>2021-05-16</th>\n      <td>23.82</td>\n      <td>23.32</td>\n      <td>23.86</td>\n      <td>22.60</td>\n      <td>2805365</td>\n    </tr>\n    <tr>\n      <th>2021-05-23</th>\n      <td>23.15</td>\n      <td>23.49</td>\n      <td>24.13</td>\n      <td>22.95</td>\n      <td>2297524</td>\n    </tr>\n  </tbody>\n</table>\n</div>"
     },
     "metadata": {},
     "execution_count": 4
    }
   ]
  },
  {
   "cell_type": "code",
   "execution_count": 5,
   "metadata": {},
   "outputs": [
    {
     "output_type": "execute_result",
     "data": {
      "text/plain": [
       "               开盘     收盘     最高     最低      成交量        ma3\n",
       "date                                                      \n",
       "2021-01-10  18.92  19.67  19.92  17.62  8090171        NaN\n",
       "2021-01-17  19.82  20.82  21.77  19.77  7738588        NaN\n",
       "2021-01-24  21.02  21.85  22.79  21.02  6549396  20.780000\n",
       "2021-01-31  21.54  22.91  23.36  21.25  5546974  21.860000\n",
       "2021-02-07  22.82  24.75  25.13  22.52  8085504  23.170000\n",
       "2021-02-14  24.72  23.64  24.78  23.20  3945226  23.766667\n",
       "2021-02-21  23.82  23.67  24.37  23.30  2427814  24.020000\n",
       "2021-02-28  23.62  21.20  23.62  21.03  7974182  22.836667\n",
       "2021-03-07  21.36  22.16  23.31  21.00  6612197  22.343333\n",
       "2021-03-14  22.26  21.30  22.51  20.10  5250946  21.553333\n",
       "2021-03-21  21.22  20.29  21.94  20.19  4937154  21.250000\n",
       "2021-03-28  20.37  20.96  21.47  20.22  4298952  20.850000\n",
       "2021-04-04  21.10  21.32  21.93  21.02  3426883  20.856667\n",
       "2021-04-11  21.37  21.12  21.91  20.90  1700698  21.133333\n",
       "2021-04-18  21.33  20.08  21.33  19.63  3097948  20.840000\n",
       "2021-04-25  19.85  23.11  23.47  19.73  5197080  21.436667\n",
       "2021-05-02  23.69  23.11  24.05  22.60  3113505  22.100000\n",
       "2021-05-09  22.92  23.87  24.12  22.92  1302509  23.363333\n",
       "2021-05-16  23.82  23.32  23.86  22.60  2805365  23.433333\n",
       "2021-05-23  23.15  23.49  24.13  22.95  2297524  23.560000"
      ],
      "text/html": "<div>\n<style scoped>\n    .dataframe tbody tr th:only-of-type {\n        vertical-align: middle;\n    }\n\n    .dataframe tbody tr th {\n        vertical-align: top;\n    }\n\n    .dataframe thead th {\n        text-align: right;\n    }\n</style>\n<table border=\"1\" class=\"dataframe\">\n  <thead>\n    <tr style=\"text-align: right;\">\n      <th></th>\n      <th>开盘</th>\n      <th>收盘</th>\n      <th>最高</th>\n      <th>最低</th>\n      <th>成交量</th>\n      <th>ma3</th>\n    </tr>\n    <tr>\n      <th>date</th>\n      <th></th>\n      <th></th>\n      <th></th>\n      <th></th>\n      <th></th>\n      <th></th>\n    </tr>\n  </thead>\n  <tbody>\n    <tr>\n      <th>2021-01-10</th>\n      <td>18.92</td>\n      <td>19.67</td>\n      <td>19.92</td>\n      <td>17.62</td>\n      <td>8090171</td>\n      <td>NaN</td>\n    </tr>\n    <tr>\n      <th>2021-01-17</th>\n      <td>19.82</td>\n      <td>20.82</td>\n      <td>21.77</td>\n      <td>19.77</td>\n      <td>7738588</td>\n      <td>NaN</td>\n    </tr>\n    <tr>\n      <th>2021-01-24</th>\n      <td>21.02</td>\n      <td>21.85</td>\n      <td>22.79</td>\n      <td>21.02</td>\n      <td>6549396</td>\n      <td>20.780000</td>\n    </tr>\n    <tr>\n      <th>2021-01-31</th>\n      <td>21.54</td>\n      <td>22.91</td>\n      <td>23.36</td>\n      <td>21.25</td>\n      <td>5546974</td>\n      <td>21.860000</td>\n    </tr>\n    <tr>\n      <th>2021-02-07</th>\n      <td>22.82</td>\n      <td>24.75</td>\n      <td>25.13</td>\n      <td>22.52</td>\n      <td>8085504</td>\n      <td>23.170000</td>\n    </tr>\n    <tr>\n      <th>2021-02-14</th>\n      <td>24.72</td>\n      <td>23.64</td>\n      <td>24.78</td>\n      <td>23.20</td>\n      <td>3945226</td>\n      <td>23.766667</td>\n    </tr>\n    <tr>\n      <th>2021-02-21</th>\n      <td>23.82</td>\n      <td>23.67</td>\n      <td>24.37</td>\n      <td>23.30</td>\n      <td>2427814</td>\n      <td>24.020000</td>\n    </tr>\n    <tr>\n      <th>2021-02-28</th>\n      <td>23.62</td>\n      <td>21.20</td>\n      <td>23.62</td>\n      <td>21.03</td>\n      <td>7974182</td>\n      <td>22.836667</td>\n    </tr>\n    <tr>\n      <th>2021-03-07</th>\n      <td>21.36</td>\n      <td>22.16</td>\n      <td>23.31</td>\n      <td>21.00</td>\n      <td>6612197</td>\n      <td>22.343333</td>\n    </tr>\n    <tr>\n      <th>2021-03-14</th>\n      <td>22.26</td>\n      <td>21.30</td>\n      <td>22.51</td>\n      <td>20.10</td>\n      <td>5250946</td>\n      <td>21.553333</td>\n    </tr>\n    <tr>\n      <th>2021-03-21</th>\n      <td>21.22</td>\n      <td>20.29</td>\n      <td>21.94</td>\n      <td>20.19</td>\n      <td>4937154</td>\n      <td>21.250000</td>\n    </tr>\n    <tr>\n      <th>2021-03-28</th>\n      <td>20.37</td>\n      <td>20.96</td>\n      <td>21.47</td>\n      <td>20.22</td>\n      <td>4298952</td>\n      <td>20.850000</td>\n    </tr>\n    <tr>\n      <th>2021-04-04</th>\n      <td>21.10</td>\n      <td>21.32</td>\n      <td>21.93</td>\n      <td>21.02</td>\n      <td>3426883</td>\n      <td>20.856667</td>\n    </tr>\n    <tr>\n      <th>2021-04-11</th>\n      <td>21.37</td>\n      <td>21.12</td>\n      <td>21.91</td>\n      <td>20.90</td>\n      <td>1700698</td>\n      <td>21.133333</td>\n    </tr>\n    <tr>\n      <th>2021-04-18</th>\n      <td>21.33</td>\n      <td>20.08</td>\n      <td>21.33</td>\n      <td>19.63</td>\n      <td>3097948</td>\n      <td>20.840000</td>\n    </tr>\n    <tr>\n      <th>2021-04-25</th>\n      <td>19.85</td>\n      <td>23.11</td>\n      <td>23.47</td>\n      <td>19.73</td>\n      <td>5197080</td>\n      <td>21.436667</td>\n    </tr>\n    <tr>\n      <th>2021-05-02</th>\n      <td>23.69</td>\n      <td>23.11</td>\n      <td>24.05</td>\n      <td>22.60</td>\n      <td>3113505</td>\n      <td>22.100000</td>\n    </tr>\n    <tr>\n      <th>2021-05-09</th>\n      <td>22.92</td>\n      <td>23.87</td>\n      <td>24.12</td>\n      <td>22.92</td>\n      <td>1302509</td>\n      <td>23.363333</td>\n    </tr>\n    <tr>\n      <th>2021-05-16</th>\n      <td>23.82</td>\n      <td>23.32</td>\n      <td>23.86</td>\n      <td>22.60</td>\n      <td>2805365</td>\n      <td>23.433333</td>\n    </tr>\n    <tr>\n      <th>2021-05-23</th>\n      <td>23.15</td>\n      <td>23.49</td>\n      <td>24.13</td>\n      <td>22.95</td>\n      <td>2297524</td>\n      <td>23.560000</td>\n    </tr>\n  </tbody>\n</table>\n</div>"
     },
     "metadata": {},
     "execution_count": 5
    }
   ],
   "source": [
    "w_df['ma3'] = w_df['收盘'].rolling(window=3).mean()\n",
    "w_df.head(20)"
   ]
  },
  {
   "cell_type": "code",
   "execution_count": 7,
   "metadata": {},
   "outputs": [
    {
     "output_type": "error",
     "ename": "IndexError",
     "evalue": "too many indices for array",
     "traceback": [
      "\u001b[1;31m---------------------------------------------------------------------------\u001b[0m",
      "\u001b[1;31mIndexError\u001b[0m                                Traceback (most recent call last)",
      "\u001b[1;32m<ipython-input-7-3a456ae992df>\u001b[0m in \u001b[0;36m<module>\u001b[1;34m\u001b[0m\n\u001b[1;32m----> 1\u001b[1;33m \u001b[0mw_df\u001b[0m\u001b[1;33m.\u001b[0m\u001b[0mrename\u001b[0m\u001b[1;33m(\u001b[0m\u001b[0mmapper\u001b[0m\u001b[1;33m=\u001b[0m\u001b[1;33m{\u001b[0m\u001b[1;34m'收盘'\u001b[0m\u001b[1;33m:\u001b[0m\u001b[1;34m'close'\u001b[0m\u001b[1;33m,\u001b[0m \u001b[1;34m'成交量'\u001b[0m\u001b[1;33m:\u001b[0m\u001b[1;34m'volume'\u001b[0m\u001b[1;33m}\u001b[0m\u001b[1;33m,\u001b[0m \u001b[0minplace\u001b[0m\u001b[1;33m=\u001b[0m\u001b[1;32mTrue\u001b[0m\u001b[1;33m)\u001b[0m\u001b[1;33m\u001b[0m\u001b[1;33m\u001b[0m\u001b[0m\n\u001b[0m\u001b[0;32m      2\u001b[0m \u001b[0mw_df\u001b[0m\u001b[1;33m.\u001b[0m\u001b[0mhead\u001b[0m\u001b[1;33m(\u001b[0m\u001b[1;33m)\u001b[0m\u001b[1;33m\u001b[0m\u001b[1;33m\u001b[0m\u001b[0m\n",
      "\u001b[1;32m~\\Anaconda3\\lib\\site-packages\\pandas\\util\\_decorators.py\u001b[0m in \u001b[0;36mwrapper\u001b[1;34m(*args, **kwargs)\u001b[0m\n\u001b[0;32m    322\u001b[0m         \u001b[1;33m@\u001b[0m\u001b[0mwraps\u001b[0m\u001b[1;33m(\u001b[0m\u001b[0mfunc\u001b[0m\u001b[1;33m)\u001b[0m\u001b[1;33m\u001b[0m\u001b[1;33m\u001b[0m\u001b[0m\n\u001b[0;32m    323\u001b[0m         \u001b[1;32mdef\u001b[0m \u001b[0mwrapper\u001b[0m\u001b[1;33m(\u001b[0m\u001b[1;33m*\u001b[0m\u001b[0margs\u001b[0m\u001b[1;33m,\u001b[0m \u001b[1;33m**\u001b[0m\u001b[0mkwargs\u001b[0m\u001b[1;33m)\u001b[0m \u001b[1;33m->\u001b[0m \u001b[0mCallable\u001b[0m\u001b[1;33m[\u001b[0m\u001b[1;33m...\u001b[0m\u001b[1;33m,\u001b[0m \u001b[0mAny\u001b[0m\u001b[1;33m]\u001b[0m\u001b[1;33m:\u001b[0m\u001b[1;33m\u001b[0m\u001b[1;33m\u001b[0m\u001b[0m\n\u001b[1;32m--> 324\u001b[1;33m             \u001b[1;32mreturn\u001b[0m \u001b[0mfunc\u001b[0m\u001b[1;33m(\u001b[0m\u001b[1;33m*\u001b[0m\u001b[0margs\u001b[0m\u001b[1;33m,\u001b[0m \u001b[1;33m**\u001b[0m\u001b[0mkwargs\u001b[0m\u001b[1;33m)\u001b[0m\u001b[1;33m\u001b[0m\u001b[1;33m\u001b[0m\u001b[0m\n\u001b[0m\u001b[0;32m    325\u001b[0m \u001b[1;33m\u001b[0m\u001b[0m\n\u001b[0;32m    326\u001b[0m         \u001b[0mkind\u001b[0m \u001b[1;33m=\u001b[0m \u001b[0minspect\u001b[0m\u001b[1;33m.\u001b[0m\u001b[0mParameter\u001b[0m\u001b[1;33m.\u001b[0m\u001b[0mPOSITIONAL_OR_KEYWORD\u001b[0m\u001b[1;33m\u001b[0m\u001b[1;33m\u001b[0m\u001b[0m\n",
      "\u001b[1;32m~\\Anaconda3\\lib\\site-packages\\pandas\\core\\frame.py\u001b[0m in \u001b[0;36mrename\u001b[1;34m(self, mapper, index, columns, axis, copy, inplace, level, errors)\u001b[0m\n\u001b[0;32m   5040\u001b[0m             \u001b[0minplace\u001b[0m\u001b[1;33m=\u001b[0m\u001b[0minplace\u001b[0m\u001b[1;33m,\u001b[0m\u001b[1;33m\u001b[0m\u001b[1;33m\u001b[0m\u001b[0m\n\u001b[0;32m   5041\u001b[0m             \u001b[0mlevel\u001b[0m\u001b[1;33m=\u001b[0m\u001b[0mlevel\u001b[0m\u001b[1;33m,\u001b[0m\u001b[1;33m\u001b[0m\u001b[1;33m\u001b[0m\u001b[0m\n\u001b[1;32m-> 5042\u001b[1;33m             \u001b[0merrors\u001b[0m\u001b[1;33m=\u001b[0m\u001b[0merrors\u001b[0m\u001b[1;33m,\u001b[0m\u001b[1;33m\u001b[0m\u001b[1;33m\u001b[0m\u001b[0m\n\u001b[0m\u001b[0;32m   5043\u001b[0m         )\n\u001b[0;32m   5044\u001b[0m \u001b[1;33m\u001b[0m\u001b[0m\n",
      "\u001b[1;32m~\\Anaconda3\\lib\\site-packages\\pandas\\core\\generic.py\u001b[0m in \u001b[0;36mrename\u001b[1;34m(self, mapper, index, columns, axis, copy, inplace, level, errors)\u001b[0m\n\u001b[0;32m   1142\u001b[0m             \u001b[1;31m# GH 13473\u001b[0m\u001b[1;33m\u001b[0m\u001b[1;33m\u001b[0m\u001b[1;33m\u001b[0m\u001b[0m\n\u001b[0;32m   1143\u001b[0m             \u001b[1;32mif\u001b[0m \u001b[1;32mnot\u001b[0m \u001b[0mcallable\u001b[0m\u001b[1;33m(\u001b[0m\u001b[0mreplacements\u001b[0m\u001b[1;33m)\u001b[0m\u001b[1;33m:\u001b[0m\u001b[1;33m\u001b[0m\u001b[1;33m\u001b[0m\u001b[0m\n\u001b[1;32m-> 1144\u001b[1;33m                 \u001b[0mindexer\u001b[0m \u001b[1;33m=\u001b[0m \u001b[0max\u001b[0m\u001b[1;33m.\u001b[0m\u001b[0mget_indexer_for\u001b[0m\u001b[1;33m(\u001b[0m\u001b[0mreplacements\u001b[0m\u001b[1;33m)\u001b[0m\u001b[1;33m\u001b[0m\u001b[1;33m\u001b[0m\u001b[0m\n\u001b[0m\u001b[0;32m   1145\u001b[0m                 \u001b[1;32mif\u001b[0m \u001b[0merrors\u001b[0m \u001b[1;33m==\u001b[0m \u001b[1;34m\"raise\"\u001b[0m \u001b[1;32mand\u001b[0m \u001b[0mlen\u001b[0m\u001b[1;33m(\u001b[0m\u001b[0mindexer\u001b[0m\u001b[1;33m[\u001b[0m\u001b[0mindexer\u001b[0m \u001b[1;33m==\u001b[0m \u001b[1;33m-\u001b[0m\u001b[1;36m1\u001b[0m\u001b[1;33m]\u001b[0m\u001b[1;33m)\u001b[0m\u001b[1;33m:\u001b[0m\u001b[1;33m\u001b[0m\u001b[1;33m\u001b[0m\u001b[0m\n\u001b[0;32m   1146\u001b[0m                     missing_labels = [\n",
      "\u001b[1;32m~\\Anaconda3\\lib\\site-packages\\pandas\\core\\indexes\\base.py\u001b[0m in \u001b[0;36mget_indexer_for\u001b[1;34m(self, target, **kwargs)\u001b[0m\n\u001b[0;32m   5274\u001b[0m         \"\"\"\n\u001b[0;32m   5275\u001b[0m         \u001b[1;32mif\u001b[0m \u001b[0mself\u001b[0m\u001b[1;33m.\u001b[0m\u001b[0m_index_as_unique\u001b[0m\u001b[1;33m:\u001b[0m\u001b[1;33m\u001b[0m\u001b[1;33m\u001b[0m\u001b[0m\n\u001b[1;32m-> 5276\u001b[1;33m             \u001b[1;32mreturn\u001b[0m \u001b[0mself\u001b[0m\u001b[1;33m.\u001b[0m\u001b[0mget_indexer\u001b[0m\u001b[1;33m(\u001b[0m\u001b[0mtarget\u001b[0m\u001b[1;33m,\u001b[0m \u001b[1;33m**\u001b[0m\u001b[0mkwargs\u001b[0m\u001b[1;33m)\u001b[0m\u001b[1;33m\u001b[0m\u001b[1;33m\u001b[0m\u001b[0m\n\u001b[0m\u001b[0;32m   5277\u001b[0m         \u001b[0mindexer\u001b[0m\u001b[1;33m,\u001b[0m \u001b[0m_\u001b[0m \u001b[1;33m=\u001b[0m \u001b[0mself\u001b[0m\u001b[1;33m.\u001b[0m\u001b[0mget_indexer_non_unique\u001b[0m\u001b[1;33m(\u001b[0m\u001b[0mtarget\u001b[0m\u001b[1;33m)\u001b[0m\u001b[1;33m\u001b[0m\u001b[1;33m\u001b[0m\u001b[0m\n\u001b[0;32m   5278\u001b[0m         \u001b[1;32mreturn\u001b[0m \u001b[0mindexer\u001b[0m\u001b[1;33m\u001b[0m\u001b[1;33m\u001b[0m\u001b[0m\n",
      "\u001b[1;32m~\\Anaconda3\\lib\\site-packages\\pandas\\core\\indexes\\base.py\u001b[0m in \u001b[0;36mget_indexer\u001b[1;34m(self, target, method, limit, tolerance)\u001b[0m\n\u001b[0;32m   3435\u001b[0m         \u001b[1;31m# returned ndarray is np.intp\u001b[0m\u001b[1;33m\u001b[0m\u001b[1;33m\u001b[0m\u001b[1;33m\u001b[0m\u001b[0m\n\u001b[0;32m   3436\u001b[0m         \u001b[0mmethod\u001b[0m \u001b[1;33m=\u001b[0m \u001b[0mmissing\u001b[0m\u001b[1;33m.\u001b[0m\u001b[0mclean_reindex_fill_method\u001b[0m\u001b[1;33m(\u001b[0m\u001b[0mmethod\u001b[0m\u001b[1;33m)\u001b[0m\u001b[1;33m\u001b[0m\u001b[1;33m\u001b[0m\u001b[0m\n\u001b[1;32m-> 3437\u001b[1;33m         \u001b[0mtarget\u001b[0m \u001b[1;33m=\u001b[0m \u001b[0mself\u001b[0m\u001b[1;33m.\u001b[0m\u001b[0m_maybe_cast_listlike_indexer\u001b[0m\u001b[1;33m(\u001b[0m\u001b[0mtarget\u001b[0m\u001b[1;33m)\u001b[0m\u001b[1;33m\u001b[0m\u001b[1;33m\u001b[0m\u001b[0m\n\u001b[0m\u001b[0;32m   3438\u001b[0m \u001b[1;33m\u001b[0m\u001b[0m\n\u001b[0;32m   3439\u001b[0m         \u001b[0mself\u001b[0m\u001b[1;33m.\u001b[0m\u001b[0m_check_indexing_method\u001b[0m\u001b[1;33m(\u001b[0m\u001b[0mmethod\u001b[0m\u001b[1;33m,\u001b[0m \u001b[0mlimit\u001b[0m\u001b[1;33m,\u001b[0m \u001b[0mtolerance\u001b[0m\u001b[1;33m)\u001b[0m\u001b[1;33m\u001b[0m\u001b[1;33m\u001b[0m\u001b[0m\n",
      "\u001b[1;32m~\\Anaconda3\\lib\\site-packages\\pandas\\core\\indexes\\datetimelike.py\u001b[0m in \u001b[0;36m_maybe_cast_listlike_indexer\u001b[1;34m(self, keyarr)\u001b[0m\n\u001b[0;32m    599\u001b[0m     \u001b[1;32mdef\u001b[0m \u001b[0m_maybe_cast_listlike_indexer\u001b[0m\u001b[1;33m(\u001b[0m\u001b[0mself\u001b[0m\u001b[1;33m,\u001b[0m \u001b[0mkeyarr\u001b[0m\u001b[1;33m)\u001b[0m\u001b[1;33m:\u001b[0m\u001b[1;33m\u001b[0m\u001b[1;33m\u001b[0m\u001b[0m\n\u001b[0;32m    600\u001b[0m         \u001b[1;32mtry\u001b[0m\u001b[1;33m:\u001b[0m\u001b[1;33m\u001b[0m\u001b[1;33m\u001b[0m\u001b[0m\n\u001b[1;32m--> 601\u001b[1;33m             \u001b[0mres\u001b[0m \u001b[1;33m=\u001b[0m \u001b[0mself\u001b[0m\u001b[1;33m.\u001b[0m\u001b[0m_data\u001b[0m\u001b[1;33m.\u001b[0m\u001b[0m_validate_listlike\u001b[0m\u001b[1;33m(\u001b[0m\u001b[0mkeyarr\u001b[0m\u001b[1;33m,\u001b[0m \u001b[0mallow_object\u001b[0m\u001b[1;33m=\u001b[0m\u001b[1;32mTrue\u001b[0m\u001b[1;33m)\u001b[0m\u001b[1;33m\u001b[0m\u001b[1;33m\u001b[0m\u001b[0m\n\u001b[0m\u001b[0;32m    602\u001b[0m         \u001b[1;32mexcept\u001b[0m \u001b[1;33m(\u001b[0m\u001b[0mValueError\u001b[0m\u001b[1;33m,\u001b[0m \u001b[0mTypeError\u001b[0m\u001b[1;33m)\u001b[0m\u001b[1;33m:\u001b[0m\u001b[1;33m\u001b[0m\u001b[1;33m\u001b[0m\u001b[0m\n\u001b[0;32m    603\u001b[0m             \u001b[0mres\u001b[0m \u001b[1;33m=\u001b[0m \u001b[0mcom\u001b[0m\u001b[1;33m.\u001b[0m\u001b[0masarray_tuplesafe\u001b[0m\u001b[1;33m(\u001b[0m\u001b[0mkeyarr\u001b[0m\u001b[1;33m)\u001b[0m\u001b[1;33m\u001b[0m\u001b[1;33m\u001b[0m\u001b[0m\n",
      "\u001b[1;32m~\\Anaconda3\\lib\\site-packages\\pandas\\core\\arrays\\datetimelike.py\u001b[0m in \u001b[0;36m_validate_listlike\u001b[1;34m(self, value, allow_object)\u001b[0m\n\u001b[0;32m    701\u001b[0m         \u001b[1;31m# Do type inference if necessary up front\u001b[0m\u001b[1;33m\u001b[0m\u001b[1;33m\u001b[0m\u001b[1;33m\u001b[0m\u001b[0m\n\u001b[0;32m    702\u001b[0m         \u001b[1;31m# e.g. we passed PeriodIndex.values and got an ndarray of Periods\u001b[0m\u001b[1;33m\u001b[0m\u001b[1;33m\u001b[0m\u001b[1;33m\u001b[0m\u001b[0m\n\u001b[1;32m--> 703\u001b[1;33m         \u001b[0mvalue\u001b[0m \u001b[1;33m=\u001b[0m \u001b[0mpd_array\u001b[0m\u001b[1;33m(\u001b[0m\u001b[0mvalue\u001b[0m\u001b[1;33m)\u001b[0m\u001b[1;33m\u001b[0m\u001b[1;33m\u001b[0m\u001b[0m\n\u001b[0m\u001b[0;32m    704\u001b[0m         \u001b[0mvalue\u001b[0m \u001b[1;33m=\u001b[0m \u001b[0mextract_array\u001b[0m\u001b[1;33m(\u001b[0m\u001b[0mvalue\u001b[0m\u001b[1;33m,\u001b[0m \u001b[0mextract_numpy\u001b[0m\u001b[1;33m=\u001b[0m\u001b[1;32mTrue\u001b[0m\u001b[1;33m)\u001b[0m\u001b[1;33m\u001b[0m\u001b[1;33m\u001b[0m\u001b[0m\n\u001b[0;32m    705\u001b[0m \u001b[1;33m\u001b[0m\u001b[0m\n",
      "\u001b[1;32m~\\Anaconda3\\lib\\site-packages\\pandas\\core\\construction.py\u001b[0m in \u001b[0;36marray\u001b[1;34m(data, dtype, copy)\u001b[0m\n\u001b[0;32m    344\u001b[0m         \u001b[1;32melif\u001b[0m \u001b[0minferred_dtype\u001b[0m \u001b[1;33m==\u001b[0m \u001b[1;34m\"string\"\u001b[0m\u001b[1;33m:\u001b[0m\u001b[1;33m\u001b[0m\u001b[1;33m\u001b[0m\u001b[0m\n\u001b[0;32m    345\u001b[0m             \u001b[1;31m# StringArray/ArrowStringArray depending on pd.options.mode.string_storage\u001b[0m\u001b[1;33m\u001b[0m\u001b[1;33m\u001b[0m\u001b[1;33m\u001b[0m\u001b[0m\n\u001b[1;32m--> 346\u001b[1;33m             \u001b[1;32mreturn\u001b[0m \u001b[0mStringDtype\u001b[0m\u001b[1;33m(\u001b[0m\u001b[1;33m)\u001b[0m\u001b[1;33m.\u001b[0m\u001b[0mconstruct_array_type\u001b[0m\u001b[1;33m(\u001b[0m\u001b[1;33m)\u001b[0m\u001b[1;33m.\u001b[0m\u001b[0m_from_sequence\u001b[0m\u001b[1;33m(\u001b[0m\u001b[0mdata\u001b[0m\u001b[1;33m,\u001b[0m \u001b[0mcopy\u001b[0m\u001b[1;33m=\u001b[0m\u001b[0mcopy\u001b[0m\u001b[1;33m)\u001b[0m\u001b[1;33m\u001b[0m\u001b[1;33m\u001b[0m\u001b[0m\n\u001b[0m\u001b[0;32m    347\u001b[0m \u001b[1;33m\u001b[0m\u001b[0m\n\u001b[0;32m    348\u001b[0m         \u001b[1;32melif\u001b[0m \u001b[0minferred_dtype\u001b[0m \u001b[1;33m==\u001b[0m \u001b[1;34m\"integer\"\u001b[0m\u001b[1;33m:\u001b[0m\u001b[1;33m\u001b[0m\u001b[1;33m\u001b[0m\u001b[0m\n",
      "\u001b[1;32m~\\Anaconda3\\lib\\site-packages\\pandas\\core\\arrays\\string_.py\u001b[0m in \u001b[0;36m_from_sequence\u001b[1;34m(cls, scalars, dtype, copy)\u001b[0m\n\u001b[0;32m    346\u001b[0m             \u001b[1;31m# convert non-na-likes to str, and nan-likes to StringDtype.na_value\u001b[0m\u001b[1;33m\u001b[0m\u001b[1;33m\u001b[0m\u001b[1;33m\u001b[0m\u001b[0m\n\u001b[0;32m    347\u001b[0m             result = lib.ensure_string_array(\n\u001b[1;32m--> 348\u001b[1;33m                 \u001b[0mscalars\u001b[0m\u001b[1;33m,\u001b[0m \u001b[0mna_value\u001b[0m\u001b[1;33m=\u001b[0m\u001b[0mStringDtype\u001b[0m\u001b[1;33m.\u001b[0m\u001b[0mna_value\u001b[0m\u001b[1;33m,\u001b[0m \u001b[0mcopy\u001b[0m\u001b[1;33m=\u001b[0m\u001b[0mcopy\u001b[0m\u001b[1;33m\u001b[0m\u001b[1;33m\u001b[0m\u001b[0m\n\u001b[0m\u001b[0;32m    349\u001b[0m             )\n\u001b[0;32m    350\u001b[0m \u001b[1;33m\u001b[0m\u001b[0m\n",
      "\u001b[1;32m~\\Anaconda3\\lib\\site-packages\\pandas\\_libs\\lib.pyx\u001b[0m in \u001b[0;36mpandas._libs.lib.ensure_string_array\u001b[1;34m()\u001b[0m\n",
      "\u001b[1;32m~\\Anaconda3\\lib\\site-packages\\pandas\\_libs\\lib.pyx\u001b[0m in \u001b[0;36mpandas._libs.lib.ensure_string_array\u001b[1;34m()\u001b[0m\n",
      "\u001b[1;31mIndexError\u001b[0m: too many indices for array"
     ]
    }
   ],
   "source": [
    "w_df.rename(mapper={'收盘':'close', '成交量':'volume'}, inplace=True)\n",
    "w_df.head()"
   ]
  }
 ],
 "metadata": {
  "kernelspec": {
   "name": "python3",
   "display_name": "Python 3.7.3 64-bit ('base': conda)"
  },
  "language_info": {
   "codemirror_mode": {
    "name": "ipython",
    "version": 3
   },
   "file_extension": ".py",
   "mimetype": "text/x-python",
   "name": "python",
   "nbconvert_exporter": "python",
   "pygments_lexer": "ipython3",
   "version": "3.7.3"
  },
  "interpreter": {
   "hash": "9972331cec1f4385922fc8a347336aae87597cdd0b2e2d2671237b0c95bd82e0"
  }
 },
 "nbformat": 4,
 "nbformat_minor": 2
}